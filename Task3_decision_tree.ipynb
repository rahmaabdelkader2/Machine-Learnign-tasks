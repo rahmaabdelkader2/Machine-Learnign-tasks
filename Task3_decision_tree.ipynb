{
 "cells": [
  {
   "cell_type": "code",
   "execution_count": 609,
   "id": "15b8cbd3",
   "metadata": {},
   "outputs": [],
   "source": [
    "import numpy as np\n",
    "import pandas as pd\n",
    "import matplotlib.pyplot as plt\n",
    "from sklearn.model_selection import train_test_split, GridSearchCV\n",
    "from sklearn.tree import DecisionTreeClassifier\n",
    "from sklearn import metrics\n",
    "from sklearn.metrics import accuracy_score, confusion_matrix, classification_report\n",
    "from sklearn.metrics import confusion_matrix, ConfusionMatrixDisplay\n",
    "from sklearn.preprocessing import StandardScaler"
   ]
  },
  {
   "cell_type": "code",
   "execution_count": 610,
   "id": "a5643424",
   "metadata": {},
   "outputs": [
    {
     "name": "stderr",
     "output_type": "stream",
     "text": [
      "C:\\Users\\DELL\\anaconda3\\lib\\site-packages\\IPython\\core\\interactiveshell.py:3369: FutureWarning: In a future version of pandas all arguments of read_csv except for the argument 'filepath_or_buffer' will be keyword-only.\n",
      "  exec(code_obj, self.user_global_ns, self.user_ns)\n"
     ]
    },
    {
     "data": {
      "text/html": [
       "<div>\n",
       "<style scoped>\n",
       "    .dataframe tbody tr th:only-of-type {\n",
       "        vertical-align: middle;\n",
       "    }\n",
       "\n",
       "    .dataframe tbody tr th {\n",
       "        vertical-align: top;\n",
       "    }\n",
       "\n",
       "    .dataframe thead th {\n",
       "        text-align: right;\n",
       "    }\n",
       "</style>\n",
       "<table border=\"1\" class=\"dataframe\">\n",
       "  <thead>\n",
       "    <tr style=\"text-align: right;\">\n",
       "      <th></th>\n",
       "      <th>id</th>\n",
       "      <th>age</th>\n",
       "      <th>gender</th>\n",
       "      <th>height</th>\n",
       "      <th>weight</th>\n",
       "      <th>ap_hi</th>\n",
       "      <th>ap_lo</th>\n",
       "      <th>cholesterol</th>\n",
       "      <th>gluc</th>\n",
       "      <th>smoke</th>\n",
       "      <th>alco</th>\n",
       "      <th>active</th>\n",
       "      <th>cardio</th>\n",
       "    </tr>\n",
       "  </thead>\n",
       "  <tbody>\n",
       "    <tr>\n",
       "      <th>0</th>\n",
       "      <td>0</td>\n",
       "      <td>18393</td>\n",
       "      <td>2</td>\n",
       "      <td>168</td>\n",
       "      <td>62.0</td>\n",
       "      <td>110</td>\n",
       "      <td>80</td>\n",
       "      <td>1</td>\n",
       "      <td>1</td>\n",
       "      <td>0</td>\n",
       "      <td>0</td>\n",
       "      <td>1</td>\n",
       "      <td>0</td>\n",
       "    </tr>\n",
       "    <tr>\n",
       "      <th>1</th>\n",
       "      <td>1</td>\n",
       "      <td>20228</td>\n",
       "      <td>1</td>\n",
       "      <td>156</td>\n",
       "      <td>85.0</td>\n",
       "      <td>140</td>\n",
       "      <td>90</td>\n",
       "      <td>3</td>\n",
       "      <td>1</td>\n",
       "      <td>0</td>\n",
       "      <td>0</td>\n",
       "      <td>1</td>\n",
       "      <td>1</td>\n",
       "    </tr>\n",
       "    <tr>\n",
       "      <th>2</th>\n",
       "      <td>2</td>\n",
       "      <td>18857</td>\n",
       "      <td>1</td>\n",
       "      <td>165</td>\n",
       "      <td>64.0</td>\n",
       "      <td>130</td>\n",
       "      <td>70</td>\n",
       "      <td>3</td>\n",
       "      <td>1</td>\n",
       "      <td>0</td>\n",
       "      <td>0</td>\n",
       "      <td>0</td>\n",
       "      <td>1</td>\n",
       "    </tr>\n",
       "    <tr>\n",
       "      <th>3</th>\n",
       "      <td>3</td>\n",
       "      <td>17623</td>\n",
       "      <td>2</td>\n",
       "      <td>169</td>\n",
       "      <td>82.0</td>\n",
       "      <td>150</td>\n",
       "      <td>100</td>\n",
       "      <td>1</td>\n",
       "      <td>1</td>\n",
       "      <td>0</td>\n",
       "      <td>0</td>\n",
       "      <td>1</td>\n",
       "      <td>1</td>\n",
       "    </tr>\n",
       "    <tr>\n",
       "      <th>4</th>\n",
       "      <td>4</td>\n",
       "      <td>17474</td>\n",
       "      <td>1</td>\n",
       "      <td>156</td>\n",
       "      <td>56.0</td>\n",
       "      <td>100</td>\n",
       "      <td>60</td>\n",
       "      <td>1</td>\n",
       "      <td>1</td>\n",
       "      <td>0</td>\n",
       "      <td>0</td>\n",
       "      <td>0</td>\n",
       "      <td>0</td>\n",
       "    </tr>\n",
       "    <tr>\n",
       "      <th>...</th>\n",
       "      <td>...</td>\n",
       "      <td>...</td>\n",
       "      <td>...</td>\n",
       "      <td>...</td>\n",
       "      <td>...</td>\n",
       "      <td>...</td>\n",
       "      <td>...</td>\n",
       "      <td>...</td>\n",
       "      <td>...</td>\n",
       "      <td>...</td>\n",
       "      <td>...</td>\n",
       "      <td>...</td>\n",
       "      <td>...</td>\n",
       "    </tr>\n",
       "    <tr>\n",
       "      <th>69995</th>\n",
       "      <td>99993</td>\n",
       "      <td>19240</td>\n",
       "      <td>2</td>\n",
       "      <td>168</td>\n",
       "      <td>76.0</td>\n",
       "      <td>120</td>\n",
       "      <td>80</td>\n",
       "      <td>1</td>\n",
       "      <td>1</td>\n",
       "      <td>1</td>\n",
       "      <td>0</td>\n",
       "      <td>1</td>\n",
       "      <td>0</td>\n",
       "    </tr>\n",
       "    <tr>\n",
       "      <th>69996</th>\n",
       "      <td>99995</td>\n",
       "      <td>22601</td>\n",
       "      <td>1</td>\n",
       "      <td>158</td>\n",
       "      <td>126.0</td>\n",
       "      <td>140</td>\n",
       "      <td>90</td>\n",
       "      <td>2</td>\n",
       "      <td>2</td>\n",
       "      <td>0</td>\n",
       "      <td>0</td>\n",
       "      <td>1</td>\n",
       "      <td>1</td>\n",
       "    </tr>\n",
       "    <tr>\n",
       "      <th>69997</th>\n",
       "      <td>99996</td>\n",
       "      <td>19066</td>\n",
       "      <td>2</td>\n",
       "      <td>183</td>\n",
       "      <td>105.0</td>\n",
       "      <td>180</td>\n",
       "      <td>90</td>\n",
       "      <td>3</td>\n",
       "      <td>1</td>\n",
       "      <td>0</td>\n",
       "      <td>1</td>\n",
       "      <td>0</td>\n",
       "      <td>1</td>\n",
       "    </tr>\n",
       "    <tr>\n",
       "      <th>69998</th>\n",
       "      <td>99998</td>\n",
       "      <td>22431</td>\n",
       "      <td>1</td>\n",
       "      <td>163</td>\n",
       "      <td>72.0</td>\n",
       "      <td>135</td>\n",
       "      <td>80</td>\n",
       "      <td>1</td>\n",
       "      <td>2</td>\n",
       "      <td>0</td>\n",
       "      <td>0</td>\n",
       "      <td>0</td>\n",
       "      <td>1</td>\n",
       "    </tr>\n",
       "    <tr>\n",
       "      <th>69999</th>\n",
       "      <td>99999</td>\n",
       "      <td>20540</td>\n",
       "      <td>1</td>\n",
       "      <td>170</td>\n",
       "      <td>72.0</td>\n",
       "      <td>120</td>\n",
       "      <td>80</td>\n",
       "      <td>2</td>\n",
       "      <td>1</td>\n",
       "      <td>0</td>\n",
       "      <td>0</td>\n",
       "      <td>1</td>\n",
       "      <td>0</td>\n",
       "    </tr>\n",
       "  </tbody>\n",
       "</table>\n",
       "<p>70000 rows × 13 columns</p>\n",
       "</div>"
      ],
      "text/plain": [
       "          id    age  gender  height  weight  ap_hi  ap_lo  cholesterol  gluc  \\\n",
       "0          0  18393       2     168    62.0    110     80            1     1   \n",
       "1          1  20228       1     156    85.0    140     90            3     1   \n",
       "2          2  18857       1     165    64.0    130     70            3     1   \n",
       "3          3  17623       2     169    82.0    150    100            1     1   \n",
       "4          4  17474       1     156    56.0    100     60            1     1   \n",
       "...      ...    ...     ...     ...     ...    ...    ...          ...   ...   \n",
       "69995  99993  19240       2     168    76.0    120     80            1     1   \n",
       "69996  99995  22601       1     158   126.0    140     90            2     2   \n",
       "69997  99996  19066       2     183   105.0    180     90            3     1   \n",
       "69998  99998  22431       1     163    72.0    135     80            1     2   \n",
       "69999  99999  20540       1     170    72.0    120     80            2     1   \n",
       "\n",
       "       smoke  alco  active  cardio  \n",
       "0          0     0       1       0  \n",
       "1          0     0       1       1  \n",
       "2          0     0       0       1  \n",
       "3          0     0       1       1  \n",
       "4          0     0       0       0  \n",
       "...      ...   ...     ...     ...  \n",
       "69995      1     0       1       0  \n",
       "69996      0     0       1       1  \n",
       "69997      0     1       0       1  \n",
       "69998      0     0       0       1  \n",
       "69999      0     0       1       0  \n",
       "\n",
       "[70000 rows x 13 columns]"
      ]
     },
     "execution_count": 610,
     "metadata": {},
     "output_type": "execute_result"
    }
   ],
   "source": [
    "data = pd.read_csv('cardio_train.csv', \";\")\n",
    "data"
   ]
  },
  {
   "cell_type": "code",
   "execution_count": 611,
   "id": "fe034d9d",
   "metadata": {},
   "outputs": [
    {
     "name": "stdout",
     "output_type": "stream",
     "text": [
      "<class 'pandas.core.frame.DataFrame'>\n",
      "RangeIndex: 70000 entries, 0 to 69999\n",
      "Data columns (total 13 columns):\n",
      " #   Column       Non-Null Count  Dtype  \n",
      "---  ------       --------------  -----  \n",
      " 0   id           70000 non-null  int64  \n",
      " 1   age          70000 non-null  int64  \n",
      " 2   gender       70000 non-null  int64  \n",
      " 3   height       70000 non-null  int64  \n",
      " 4   weight       70000 non-null  float64\n",
      " 5   ap_hi        70000 non-null  int64  \n",
      " 6   ap_lo        70000 non-null  int64  \n",
      " 7   cholesterol  70000 non-null  int64  \n",
      " 8   gluc         70000 non-null  int64  \n",
      " 9   smoke        70000 non-null  int64  \n",
      " 10  alco         70000 non-null  int64  \n",
      " 11  active       70000 non-null  int64  \n",
      " 12  cardio       70000 non-null  int64  \n",
      "dtypes: float64(1), int64(12)\n",
      "memory usage: 6.9 MB\n"
     ]
    }
   ],
   "source": [
    "data.info()"
   ]
  },
  {
   "cell_type": "code",
   "execution_count": 612,
   "id": "be973013",
   "metadata": {},
   "outputs": [
    {
     "name": "stdout",
     "output_type": "stream",
     "text": [
      "id 0\n",
      "age 0\n",
      "gender 0\n",
      "height 0\n",
      "weight 0\n",
      "ap_hi 0\n",
      "ap_lo 0\n",
      "cholesterol 0\n",
      "gluc 0\n",
      "smoke 0\n",
      "alco 0\n",
      "active 0\n",
      "cardio 0\n"
     ]
    }
   ],
   "source": [
    "# check for missing values\n",
    "for i in data.columns:\n",
    "    print(i, data[i].isna().sum())"
   ]
  },
  {
   "cell_type": "code",
   "execution_count": 613,
   "id": "015c7e35",
   "metadata": {},
   "outputs": [],
   "source": [
    "data = data.drop(columns = ['id'])"
   ]
  },
  {
   "cell_type": "code",
   "execution_count": 614,
   "id": "f2f2612e",
   "metadata": {},
   "outputs": [
    {
     "data": {
      "text/plain": [
       "0        50.36\n",
       "1        55.38\n",
       "2        51.63\n",
       "3        48.25\n",
       "4        47.84\n",
       "         ...  \n",
       "69995    52.68\n",
       "69996    61.88\n",
       "69997    52.20\n",
       "69998    61.41\n",
       "69999    56.24\n",
       "Name: age, Length: 70000, dtype: float64"
      ]
     },
     "execution_count": 614,
     "metadata": {},
     "output_type": "execute_result"
    }
   ],
   "source": [
    "data['age'] = round(data['age']/365.25,2)\n",
    "data['age']"
   ]
  },
  {
   "cell_type": "code",
   "execution_count": 615,
   "id": "042a743d",
   "metadata": {},
   "outputs": [
    {
     "data": {
      "text/plain": [
       "0        1\n",
       "1        0\n",
       "2        0\n",
       "3        1\n",
       "4        0\n",
       "        ..\n",
       "69995    1\n",
       "69996    0\n",
       "69997    1\n",
       "69998    0\n",
       "69999    0\n",
       "Name: gender, Length: 70000, dtype: int32"
      ]
     },
     "execution_count": 615,
     "metadata": {},
     "output_type": "execute_result"
    }
   ],
   "source": [
    "data['gender']=np.where(data['gender']==2,1,0)\n",
    "data['gender']"
   ]
  },
  {
   "cell_type": "code",
   "execution_count": 616,
   "id": "6dd78e4f",
   "metadata": {},
   "outputs": [
    {
     "data": {
      "text/html": [
       "<div>\n",
       "<style scoped>\n",
       "    .dataframe tbody tr th:only-of-type {\n",
       "        vertical-align: middle;\n",
       "    }\n",
       "\n",
       "    .dataframe tbody tr th {\n",
       "        vertical-align: top;\n",
       "    }\n",
       "\n",
       "    .dataframe thead th {\n",
       "        text-align: right;\n",
       "    }\n",
       "</style>\n",
       "<table border=\"1\" class=\"dataframe\">\n",
       "  <thead>\n",
       "    <tr style=\"text-align: right;\">\n",
       "      <th></th>\n",
       "      <th>age</th>\n",
       "      <th>gender</th>\n",
       "      <th>height</th>\n",
       "      <th>weight</th>\n",
       "      <th>ap_hi</th>\n",
       "      <th>ap_lo</th>\n",
       "      <th>cholesterol</th>\n",
       "      <th>gluc</th>\n",
       "      <th>smoke</th>\n",
       "      <th>alco</th>\n",
       "      <th>active</th>\n",
       "    </tr>\n",
       "  </thead>\n",
       "  <tbody>\n",
       "    <tr>\n",
       "      <th>0</th>\n",
       "      <td>50.36</td>\n",
       "      <td>1</td>\n",
       "      <td>168</td>\n",
       "      <td>62.0</td>\n",
       "      <td>110</td>\n",
       "      <td>80</td>\n",
       "      <td>1</td>\n",
       "      <td>1</td>\n",
       "      <td>0</td>\n",
       "      <td>0</td>\n",
       "      <td>1</td>\n",
       "    </tr>\n",
       "    <tr>\n",
       "      <th>1</th>\n",
       "      <td>55.38</td>\n",
       "      <td>0</td>\n",
       "      <td>156</td>\n",
       "      <td>85.0</td>\n",
       "      <td>140</td>\n",
       "      <td>90</td>\n",
       "      <td>3</td>\n",
       "      <td>1</td>\n",
       "      <td>0</td>\n",
       "      <td>0</td>\n",
       "      <td>1</td>\n",
       "    </tr>\n",
       "    <tr>\n",
       "      <th>2</th>\n",
       "      <td>51.63</td>\n",
       "      <td>0</td>\n",
       "      <td>165</td>\n",
       "      <td>64.0</td>\n",
       "      <td>130</td>\n",
       "      <td>70</td>\n",
       "      <td>3</td>\n",
       "      <td>1</td>\n",
       "      <td>0</td>\n",
       "      <td>0</td>\n",
       "      <td>0</td>\n",
       "    </tr>\n",
       "    <tr>\n",
       "      <th>3</th>\n",
       "      <td>48.25</td>\n",
       "      <td>1</td>\n",
       "      <td>169</td>\n",
       "      <td>82.0</td>\n",
       "      <td>150</td>\n",
       "      <td>100</td>\n",
       "      <td>1</td>\n",
       "      <td>1</td>\n",
       "      <td>0</td>\n",
       "      <td>0</td>\n",
       "      <td>1</td>\n",
       "    </tr>\n",
       "    <tr>\n",
       "      <th>4</th>\n",
       "      <td>47.84</td>\n",
       "      <td>0</td>\n",
       "      <td>156</td>\n",
       "      <td>56.0</td>\n",
       "      <td>100</td>\n",
       "      <td>60</td>\n",
       "      <td>1</td>\n",
       "      <td>1</td>\n",
       "      <td>0</td>\n",
       "      <td>0</td>\n",
       "      <td>0</td>\n",
       "    </tr>\n",
       "    <tr>\n",
       "      <th>...</th>\n",
       "      <td>...</td>\n",
       "      <td>...</td>\n",
       "      <td>...</td>\n",
       "      <td>...</td>\n",
       "      <td>...</td>\n",
       "      <td>...</td>\n",
       "      <td>...</td>\n",
       "      <td>...</td>\n",
       "      <td>...</td>\n",
       "      <td>...</td>\n",
       "      <td>...</td>\n",
       "    </tr>\n",
       "    <tr>\n",
       "      <th>69995</th>\n",
       "      <td>52.68</td>\n",
       "      <td>1</td>\n",
       "      <td>168</td>\n",
       "      <td>76.0</td>\n",
       "      <td>120</td>\n",
       "      <td>80</td>\n",
       "      <td>1</td>\n",
       "      <td>1</td>\n",
       "      <td>1</td>\n",
       "      <td>0</td>\n",
       "      <td>1</td>\n",
       "    </tr>\n",
       "    <tr>\n",
       "      <th>69996</th>\n",
       "      <td>61.88</td>\n",
       "      <td>0</td>\n",
       "      <td>158</td>\n",
       "      <td>126.0</td>\n",
       "      <td>140</td>\n",
       "      <td>90</td>\n",
       "      <td>2</td>\n",
       "      <td>2</td>\n",
       "      <td>0</td>\n",
       "      <td>0</td>\n",
       "      <td>1</td>\n",
       "    </tr>\n",
       "    <tr>\n",
       "      <th>69997</th>\n",
       "      <td>52.20</td>\n",
       "      <td>1</td>\n",
       "      <td>183</td>\n",
       "      <td>105.0</td>\n",
       "      <td>180</td>\n",
       "      <td>90</td>\n",
       "      <td>3</td>\n",
       "      <td>1</td>\n",
       "      <td>0</td>\n",
       "      <td>1</td>\n",
       "      <td>0</td>\n",
       "    </tr>\n",
       "    <tr>\n",
       "      <th>69998</th>\n",
       "      <td>61.41</td>\n",
       "      <td>0</td>\n",
       "      <td>163</td>\n",
       "      <td>72.0</td>\n",
       "      <td>135</td>\n",
       "      <td>80</td>\n",
       "      <td>1</td>\n",
       "      <td>2</td>\n",
       "      <td>0</td>\n",
       "      <td>0</td>\n",
       "      <td>0</td>\n",
       "    </tr>\n",
       "    <tr>\n",
       "      <th>69999</th>\n",
       "      <td>56.24</td>\n",
       "      <td>0</td>\n",
       "      <td>170</td>\n",
       "      <td>72.0</td>\n",
       "      <td>120</td>\n",
       "      <td>80</td>\n",
       "      <td>2</td>\n",
       "      <td>1</td>\n",
       "      <td>0</td>\n",
       "      <td>0</td>\n",
       "      <td>1</td>\n",
       "    </tr>\n",
       "  </tbody>\n",
       "</table>\n",
       "<p>70000 rows × 11 columns</p>\n",
       "</div>"
      ],
      "text/plain": [
       "         age  gender  height  weight  ap_hi  ap_lo  cholesterol  gluc  smoke  \\\n",
       "0      50.36       1     168    62.0    110     80            1     1      0   \n",
       "1      55.38       0     156    85.0    140     90            3     1      0   \n",
       "2      51.63       0     165    64.0    130     70            3     1      0   \n",
       "3      48.25       1     169    82.0    150    100            1     1      0   \n",
       "4      47.84       0     156    56.0    100     60            1     1      0   \n",
       "...      ...     ...     ...     ...    ...    ...          ...   ...    ...   \n",
       "69995  52.68       1     168    76.0    120     80            1     1      1   \n",
       "69996  61.88       0     158   126.0    140     90            2     2      0   \n",
       "69997  52.20       1     183   105.0    180     90            3     1      0   \n",
       "69998  61.41       0     163    72.0    135     80            1     2      0   \n",
       "69999  56.24       0     170    72.0    120     80            2     1      0   \n",
       "\n",
       "       alco  active  \n",
       "0         0       1  \n",
       "1         0       1  \n",
       "2         0       0  \n",
       "3         0       1  \n",
       "4         0       0  \n",
       "...     ...     ...  \n",
       "69995     0       1  \n",
       "69996     0       1  \n",
       "69997     1       0  \n",
       "69998     0       0  \n",
       "69999     0       1  \n",
       "\n",
       "[70000 rows x 11 columns]"
      ]
     },
     "execution_count": 616,
     "metadata": {},
     "output_type": "execute_result"
    }
   ],
   "source": [
    "X = data.iloc[:, :-1]\n",
    "X"
   ]
  },
  {
   "cell_type": "code",
   "execution_count": 617,
   "id": "44bcc56d",
   "metadata": {},
   "outputs": [],
   "source": [
    "Y = data['cardio']"
   ]
  },
  {
   "cell_type": "code",
   "execution_count": 618,
   "id": "d6ca7bd3",
   "metadata": {},
   "outputs": [],
   "source": [
    "# Initialize Scaler Model\n",
    "scaler = StandardScaler()\n",
    "\n",
    "# Apply scaler model\n",
    "X_scaled =scaler.fit_transform(X)"
   ]
  },
  {
   "cell_type": "code",
   "execution_count": 619,
   "id": "a0d8debf",
   "metadata": {},
   "outputs": [
    {
     "name": "stdout",
     "output_type": "stream",
     "text": [
      "Accuracy Score 73.20571428571428\n"
     ]
    }
   ],
   "source": [
    "X_train, X_test, y_train, y_test = train_test_split(X_scaled, Y, test_size=0.25, random_state=250)\n",
    "\n",
    "# Initializing Decision Tree\n",
    "Class_tree= DecisionTreeClassifier(max_depth= 5)\n",
    "\n",
    "# Applying Decision Tree model to data\n",
    "Class_tree.fit(X_train,y_train)\n",
    "\n",
    "# Predict the model\n",
    "y_pred = Class_tree.predict(X_test)\n",
    "\n",
    "# Model Report/results\n",
    "print('Accuracy Score', (accuracy_score(y_pred,y_test))*100)"
   ]
  },
  {
   "cell_type": "code",
   "execution_count": 620,
   "id": "50874620",
   "metadata": {},
   "outputs": [
    {
     "name": "stdout",
     "output_type": "stream",
     "text": [
      "\n",
      " Confusion Matrix \n",
      " [[6932 2893]\n",
      " [1796 5879]]\n"
     ]
    },
    {
     "data": {
      "image/png": "[encoded data removed]",
      "text/plain": [
       "<Figure size 432x288 with 2 Axes>"
      ]
     },
     "metadata": {
      "needs_background": "light"
     },
     "output_type": "display_data"
    }
   ],
   "source": [
    "print('\\n Confusion Matrix \\n', confusion_matrix(y_pred, y_test))\n",
    "cm = confusion_matrix(y_pred, y_test, labels=clf.classes_)\n",
    "disp = ConfusionMatrixDisplay(confusion_matrix=cm) \n",
    "disp.plot()\n",
    "plt.show()"
   ]
  },
  {
   "cell_type": "code",
   "execution_count": 621,
   "id": "de0497a4",
   "metadata": {},
   "outputs": [
    {
     "name": "stdout",
     "output_type": "stream",
     "text": [
      "\n",
      " Classfication Report \n",
      "               precision    recall  f1-score   support\n",
      "\n",
      "           0       0.79      0.71      0.75      9825\n",
      "           1       0.67      0.77      0.71      7675\n",
      "\n",
      "    accuracy                           0.73     17500\n",
      "   macro avg       0.73      0.74      0.73     17500\n",
      "weighted avg       0.74      0.73      0.73     17500\n",
      "\n"
     ]
    }
   ],
   "source": [
    "print('\\n Classfication Report \\n', classification_report(y_pred,y_test))\n",
    "\n"
   ]
  },
  {
   "cell_type": "code",
   "execution_count": 622,
   "id": "fc9e2766",
   "metadata": {},
   "outputs": [
    {
     "name": "stdout",
     "output_type": "stream",
     "text": [
      "Grid Search Best Parameter {'criterion': 'entropy', 'max_depth': 7, 'max_features': None, 'min_samples_leaf': 15, 'splitter': 'best'}\n",
      "Grid Search Best Score 0.7320952380952381\n"
     ]
    }
   ],
   "source": [
    "param =  {\n",
    "    'criterion': ['gini','entropy'],\n",
    "    'max_depth' : range(5,15),\n",
    "    'min_samples_leaf' : range(11,16),\n",
    "    'max_features' : [ 'sqrt', 'log2' , None],\n",
    "    'splitter' : ['best','random']\n",
    "}\n",
    "\n",
    "# Initializing Grid Search CV\n",
    "grid_search = GridSearchCV(estimator=Class_tree,\n",
    "                           param_grid=param, cv=5, n_jobs=-1)\n",
    "\n",
    "#Applying Grid Search CV\n",
    "grid_search.fit(X_train, y_train)\n",
    "\n",
    "\n",
    "#Result\n",
    "print('Grid Search Best Parameter',grid_search.best_params_)\n",
    "print('Grid Search Best Score',grid_search.best_score_)"
   ]
  },
  {
   "cell_type": "code",
   "execution_count": 623,
   "id": "743b8823",
   "metadata": {},
   "outputs": [
    {
     "name": "stdout",
     "output_type": "stream",
     "text": [
      "Accuracy Score 73.12571428571428\n"
     ]
    }
   ],
   "source": [
    "# Initializing Decision Tree\n",
    "Class_tree = DecisionTreeClassifier(criterion= 'gini', max_depth= 7, max_features = None,\n",
    "                                   min_samples_leaf= 15, splitter='best')\n",
    "\n",
    "# Applying Decision Tree model to data\n",
    "Class_tree.fit(X_train,y_train)\n",
    "\n",
    "# Predict the model\n",
    "y_pred = Class_tree.predict(X_test)\n",
    "\n",
    "# Model Report/results\n",
    "print('Accuracy Score', (accuracy_score(y_pred,y_test))*100)"
   ]
  },
  {
   "cell_type": "code",
   "execution_count": 624,
   "id": "a0585d62",
   "metadata": {},
   "outputs": [
    {
     "name": "stdout",
     "output_type": "stream",
     "text": [
      "\n",
      " Classfication Report \n",
      "               precision    recall  f1-score   support\n",
      "\n",
      "           0       0.80      0.70      0.75      9927\n",
      "           1       0.66      0.77      0.71      7573\n",
      "\n",
      "    accuracy                           0.73     17500\n",
      "   macro avg       0.73      0.74      0.73     17500\n",
      "weighted avg       0.74      0.73      0.73     17500\n",
      "\n"
     ]
    }
   ],
   "source": [
    "print('\\n Classfication Report \\n', classification_report(y_pred,y_test))"
   ]
  },
  {
   "cell_type": "code",
   "execution_count": 625,
   "id": "b5c52489",
   "metadata": {},
   "outputs": [
    {
     "name": "stdout",
     "output_type": "stream",
     "text": [
      "\n",
      " Confusion Matrix \n",
      " [[6976 2951]\n",
      " [1752 5821]]\n"
     ]
    },
    {
     "data": {
      "image/png": "[encoded data removed]",
      "text/plain": [
       "<Figure size 432x288 with 2 Axes>"
      ]
     },
     "metadata": {
      "needs_background": "light"
     },
     "output_type": "display_data"
    }
   ],
   "source": [
    "print('\\n Confusion Matrix \\n', confusion_matrix(y_pred, y_test))\n",
    "cm = confusion_matrix(y_pred, y_test, labels=clf.classes_)\n",
    "disp = ConfusionMatrixDisplay(confusion_matrix=cm) \n",
    "disp.plot()\n",
    "plt.show()"
   ]
  },
  {
   "cell_type": "markdown",
   "id": "f8456435",
   "metadata": {},
   "source": [
    "## implemented from scratch "
   ]
  },
  {
   "cell_type": "code",
   "execution_count": 626,
   "id": "80a82606",
   "metadata": {},
   "outputs": [],
   "source": [
    "import math\n",
    "from collections import Counter\n",
    "\n",
    "class Node:\n",
    "    def __init__(self, attribute=None, branches=None, label=None):\n",
    "        self.attribute = attribute\n",
    "        self.branches = branches if branches else {}\n",
    "        self.label = label\n",
    "\n",
    "class DecisionTree_implemented:\n",
    "    def __init__(self, max_depth=5, min_samples_split=2):\n",
    "        self.max_depth = max_depth\n",
    "        self.min_samples_split = min_samples_split\n",
    "\n",
    "    def fit(self, X, y):\n",
    "        self.root = self._build_tree(X, y, depth=0)\n",
    "\n",
    "    def predict(self, X):\n",
    "        return [self._classify(x, self.root) for x in X]\n",
    "\n",
    "    def _build_tree(self, X, y, depth):\n",
    "        if depth == self.max_depth or len(X) < self.min_samples_split:\n",
    "            return Node(label=self._most_common_label(y))\n",
    "\n",
    "        best_attribute = self._choose_best_attribute(X, y)\n",
    "        node = Node(attribute=best_attribute)\n",
    "\n",
    "        for value in set(X[:, best_attribute]):\n",
    "            X_v = X[X[:, best_attribute] == value]\n",
    "            y_v = y[X[:, best_attribute] == value]\n",
    "            node.branches[value] = self._build_tree(X_v, y_v, depth + 1)\n",
    "\n",
    "        return node\n",
    "\n",
    "    def _classify(self, x, node):\n",
    "        if node.label is not None:\n",
    "            return node.label\n",
    "        value = x[node.attribute]\n",
    "        if value not in node.branches:\n",
    "            return self._most_common_label([child.label for child in node.branches.values()])\n",
    "        return self._classify(x, node.branches[value])\n",
    "\n",
    "    def _choose_best_attribute(self, X, y):\n",
    "        best_attribute = None\n",
    "        best_info_gain = -math.inf\n",
    "        for attribute in range(X.shape[1]):\n",
    "            info_gain = self._information_gain(X, y, attribute)\n",
    "            if info_gain > best_info_gain:\n",
    "                best_attribute = attribute\n",
    "                best_info_gain = info_gain\n",
    "        return best_attribute\n",
    "\n",
    "    def _information_gain(self, X, y, attribute):\n",
    "        parent_entropy = self._entropy(y)\n",
    "        weighted_child_entropy = 0.0\n",
    "        for value in set(X[:, attribute]):\n",
    "            X_v = X[X[:, attribute] == value]\n",
    "            y_v = y[X[:, attribute] == value]\n",
    "            weighted_child_entropy += len(X_v) / len(X) * self._entropy(y_v)\n",
    "        return parent_entropy - weighted_child_entropy\n",
    "\n",
    "    def _entropy(self, y):\n",
    "        total_count = len(y)\n",
    "        count_dict = Counter(y)\n",
    "        entropy = 0.0\n",
    "        for count in count_dict.values():\n",
    "            probability = count / total_count\n",
    "            entropy -= probability * math.log2(probability)\n",
    "        return entropy\n",
    "\n",
    "    def _most_common_label(self, y):\n",
    "        count_dict = Counter(y)\n",
    "        return count_dict.most_common(1)[0][0]\n"
   ]
  },
  {
   "cell_type": "code",
   "execution_count": 627,
   "id": "0515ac2a",
   "metadata": {},
   "outputs": [],
   "source": [
    "dt = DecisionTree_implemented(max_depth=7)"
   ]
  },
  {
   "cell_type": "code",
   "execution_count": 628,
   "id": "61998332",
   "metadata": {},
   "outputs": [],
   "source": [
    "dt.fit(X_train, y_train)"
   ]
  },
  {
   "cell_type": "code",
   "execution_count": 629,
   "id": "8b885f16",
   "metadata": {},
   "outputs": [],
   "source": [
    "y_pred_implemented = dt.predict(X_test)\n"
   ]
  },
  {
   "cell_type": "code",
   "execution_count": 630,
   "id": "4ec2dc34",
   "metadata": {},
   "outputs": [],
   "source": [
    "def accuracy(y_test, y_pred):\n",
    "    return np.sum(y_test == y_pred) / len(y_test)"
   ]
  },
  {
   "cell_type": "code",
   "execution_count": 631,
   "id": "59a99f3a",
   "metadata": {},
   "outputs": [],
   "source": [
    "acc=accuracy(y_pred_implemented,y_test)"
   ]
  },
  {
   "cell_type": "code",
   "execution_count": 632,
   "id": "e0196787",
   "metadata": {},
   "outputs": [
    {
     "name": "stdout",
     "output_type": "stream",
     "text": [
      "Accuracy of the implemented model 60.59428571428571\n"
     ]
    }
   ],
   "source": [
    "print('Accuracy of the implemented model', acc*100)"
   ]
  },
  {
   "cell_type": "markdown",
   "id": "b6049129",
   "metadata": {},
   "source": [
    "## Student table "
   ]
  },
  {
   "cell_type": "code",
   "execution_count": 651,
   "id": "4b70fb4c",
   "metadata": {},
   "outputs": [],
   "source": [
    "student = {'EarlyRegistration':[1,1,0,0,0,0,1,0,0,1,1,0,0,1], 'Finishedhomework2':[1,1,0,1,1,0,0,1,0,0,1,1,0,0],'Senior':[0,1,1,1,1,1,0,0,1,0,1,1,0,0],'LikesCoffee':[0,0,0,0,0,1,0,1,0,0,0,1,0,1],'LikedTheLasthomework':[1,1,0,1,0,1,1,1,1,0,0,1,1,0],'A':[1,1,0,0,1,1,0,1,1,0,1,0,0,1]}  "
   ]
  },
  {
   "cell_type": "code",
   "execution_count": 652,
   "id": "53368558",
   "metadata": {},
   "outputs": [
    {
     "data": {
      "text/plain": [
       "{'EarlyRegistration': [1, 1, 0, 0, 0, 0, 1, 0, 0, 1, 1, 0, 0, 1],\n",
       " 'Finishedhomework2': [1, 1, 0, 1, 1, 0, 0, 1, 0, 0, 1, 1, 0, 0],\n",
       " 'Senior': [0, 1, 1, 1, 1, 1, 0, 0, 1, 0, 1, 1, 0, 0],\n",
       " 'LikesCoffee': [0, 0, 0, 0, 0, 1, 0, 1, 0, 0, 0, 1, 0, 1],\n",
       " 'LikedTheLasthomework': [1, 1, 0, 1, 0, 1, 1, 1, 1, 0, 0, 1, 1, 0],\n",
       " 'A': [1, 1, 0, 0, 1, 1, 0, 1, 1, 0, 1, 0, 0, 1]}"
      ]
     },
     "execution_count": 652,
     "metadata": {},
     "output_type": "execute_result"
    }
   ],
   "source": [
    "student"
   ]
  },
  {
   "cell_type": "code",
   "execution_count": 653,
   "id": "3f19eb70",
   "metadata": {},
   "outputs": [
    {
     "data": {
      "text/html": [
       "<div>\n",
       "<style scoped>\n",
       "    .dataframe tbody tr th:only-of-type {\n",
       "        vertical-align: middle;\n",
       "    }\n",
       "\n",
       "    .dataframe tbody tr th {\n",
       "        vertical-align: top;\n",
       "    }\n",
       "\n",
       "    .dataframe thead th {\n",
       "        text-align: right;\n",
       "    }\n",
       "</style>\n",
       "<table border=\"1\" class=\"dataframe\">\n",
       "  <thead>\n",
       "    <tr style=\"text-align: right;\">\n",
       "      <th></th>\n",
       "      <th>EarlyRegistration</th>\n",
       "      <th>Finishedhomework2</th>\n",
       "      <th>Senior</th>\n",
       "      <th>LikesCoffee</th>\n",
       "      <th>LikedTheLasthomework</th>\n",
       "      <th>A</th>\n",
       "    </tr>\n",
       "  </thead>\n",
       "  <tbody>\n",
       "    <tr>\n",
       "      <th>0</th>\n",
       "      <td>1</td>\n",
       "      <td>1</td>\n",
       "      <td>0</td>\n",
       "      <td>0</td>\n",
       "      <td>1</td>\n",
       "      <td>1</td>\n",
       "    </tr>\n",
       "    <tr>\n",
       "      <th>1</th>\n",
       "      <td>1</td>\n",
       "      <td>1</td>\n",
       "      <td>1</td>\n",
       "      <td>0</td>\n",
       "      <td>1</td>\n",
       "      <td>1</td>\n",
       "    </tr>\n",
       "    <tr>\n",
       "      <th>2</th>\n",
       "      <td>0</td>\n",
       "      <td>0</td>\n",
       "      <td>1</td>\n",
       "      <td>0</td>\n",
       "      <td>0</td>\n",
       "      <td>0</td>\n",
       "    </tr>\n",
       "    <tr>\n",
       "      <th>3</th>\n",
       "      <td>0</td>\n",
       "      <td>1</td>\n",
       "      <td>1</td>\n",
       "      <td>0</td>\n",
       "      <td>1</td>\n",
       "      <td>0</td>\n",
       "    </tr>\n",
       "    <tr>\n",
       "      <th>4</th>\n",
       "      <td>0</td>\n",
       "      <td>1</td>\n",
       "      <td>1</td>\n",
       "      <td>0</td>\n",
       "      <td>0</td>\n",
       "      <td>1</td>\n",
       "    </tr>\n",
       "    <tr>\n",
       "      <th>5</th>\n",
       "      <td>0</td>\n",
       "      <td>0</td>\n",
       "      <td>1</td>\n",
       "      <td>1</td>\n",
       "      <td>1</td>\n",
       "      <td>1</td>\n",
       "    </tr>\n",
       "    <tr>\n",
       "      <th>6</th>\n",
       "      <td>1</td>\n",
       "      <td>0</td>\n",
       "      <td>0</td>\n",
       "      <td>0</td>\n",
       "      <td>1</td>\n",
       "      <td>0</td>\n",
       "    </tr>\n",
       "    <tr>\n",
       "      <th>7</th>\n",
       "      <td>0</td>\n",
       "      <td>1</td>\n",
       "      <td>0</td>\n",
       "      <td>1</td>\n",
       "      <td>1</td>\n",
       "      <td>1</td>\n",
       "    </tr>\n",
       "    <tr>\n",
       "      <th>8</th>\n",
       "      <td>0</td>\n",
       "      <td>0</td>\n",
       "      <td>1</td>\n",
       "      <td>0</td>\n",
       "      <td>1</td>\n",
       "      <td>1</td>\n",
       "    </tr>\n",
       "    <tr>\n",
       "      <th>9</th>\n",
       "      <td>1</td>\n",
       "      <td>0</td>\n",
       "      <td>0</td>\n",
       "      <td>0</td>\n",
       "      <td>0</td>\n",
       "      <td>0</td>\n",
       "    </tr>\n",
       "    <tr>\n",
       "      <th>10</th>\n",
       "      <td>1</td>\n",
       "      <td>1</td>\n",
       "      <td>1</td>\n",
       "      <td>0</td>\n",
       "      <td>0</td>\n",
       "      <td>1</td>\n",
       "    </tr>\n",
       "    <tr>\n",
       "      <th>11</th>\n",
       "      <td>0</td>\n",
       "      <td>1</td>\n",
       "      <td>1</td>\n",
       "      <td>1</td>\n",
       "      <td>1</td>\n",
       "      <td>0</td>\n",
       "    </tr>\n",
       "    <tr>\n",
       "      <th>12</th>\n",
       "      <td>0</td>\n",
       "      <td>0</td>\n",
       "      <td>0</td>\n",
       "      <td>0</td>\n",
       "      <td>1</td>\n",
       "      <td>0</td>\n",
       "    </tr>\n",
       "    <tr>\n",
       "      <th>13</th>\n",
       "      <td>1</td>\n",
       "      <td>0</td>\n",
       "      <td>0</td>\n",
       "      <td>1</td>\n",
       "      <td>0</td>\n",
       "      <td>1</td>\n",
       "    </tr>\n",
       "  </tbody>\n",
       "</table>\n",
       "</div>"
      ],
      "text/plain": [
       "    EarlyRegistration  Finishedhomework2  Senior  LikesCoffee  \\\n",
       "0                   1                  1       0            0   \n",
       "1                   1                  1       1            0   \n",
       "2                   0                  0       1            0   \n",
       "3                   0                  1       1            0   \n",
       "4                   0                  1       1            0   \n",
       "5                   0                  0       1            1   \n",
       "6                   1                  0       0            0   \n",
       "7                   0                  1       0            1   \n",
       "8                   0                  0       1            0   \n",
       "9                   1                  0       0            0   \n",
       "10                  1                  1       1            0   \n",
       "11                  0                  1       1            1   \n",
       "12                  0                  0       0            0   \n",
       "13                  1                  0       0            1   \n",
       "\n",
       "    LikedTheLasthomework  A  \n",
       "0                      1  1  \n",
       "1                      1  1  \n",
       "2                      0  0  \n",
       "3                      1  0  \n",
       "4                      0  1  \n",
       "5                      1  1  \n",
       "6                      1  0  \n",
       "7                      1  1  \n",
       "8                      1  1  \n",
       "9                      0  0  \n",
       "10                     0  1  \n",
       "11                     1  0  \n",
       "12                     1  0  \n",
       "13                     0  1  "
      ]
     },
     "execution_count": 653,
     "metadata": {},
     "output_type": "execute_result"
    }
   ],
   "source": [
    "student = pd.DataFrame(student) \n",
    "student"
   ]
  },
  {
   "cell_type": "code",
   "execution_count": 654,
   "id": "3d4598a3",
   "metadata": {},
   "outputs": [],
   "source": [
    "student.to_csv('student.csv', index=False)"
   ]
  },
  {
   "cell_type": "code",
   "execution_count": 655,
   "id": "146183a9",
   "metadata": {},
   "outputs": [
    {
     "data": {
      "text/html": [
       "<div>\n",
       "<style scoped>\n",
       "    .dataframe tbody tr th:only-of-type {\n",
       "        vertical-align: middle;\n",
       "    }\n",
       "\n",
       "    .dataframe tbody tr th {\n",
       "        vertical-align: top;\n",
       "    }\n",
       "\n",
       "    .dataframe thead th {\n",
       "        text-align: right;\n",
       "    }\n",
       "</style>\n",
       "<table border=\"1\" class=\"dataframe\">\n",
       "  <thead>\n",
       "    <tr style=\"text-align: right;\">\n",
       "      <th></th>\n",
       "      <th>EarlyRegistration</th>\n",
       "      <th>Finishedhomework2</th>\n",
       "      <th>Senior</th>\n",
       "      <th>LikesCoffee</th>\n",
       "      <th>LikedTheLasthomework</th>\n",
       "      <th>A</th>\n",
       "    </tr>\n",
       "  </thead>\n",
       "  <tbody>\n",
       "    <tr>\n",
       "      <th>0</th>\n",
       "      <td>1</td>\n",
       "      <td>1</td>\n",
       "      <td>0</td>\n",
       "      <td>0</td>\n",
       "      <td>1</td>\n",
       "      <td>1</td>\n",
       "    </tr>\n",
       "    <tr>\n",
       "      <th>1</th>\n",
       "      <td>1</td>\n",
       "      <td>1</td>\n",
       "      <td>1</td>\n",
       "      <td>0</td>\n",
       "      <td>1</td>\n",
       "      <td>1</td>\n",
       "    </tr>\n",
       "    <tr>\n",
       "      <th>2</th>\n",
       "      <td>0</td>\n",
       "      <td>0</td>\n",
       "      <td>1</td>\n",
       "      <td>0</td>\n",
       "      <td>0</td>\n",
       "      <td>0</td>\n",
       "    </tr>\n",
       "    <tr>\n",
       "      <th>3</th>\n",
       "      <td>0</td>\n",
       "      <td>1</td>\n",
       "      <td>1</td>\n",
       "      <td>0</td>\n",
       "      <td>1</td>\n",
       "      <td>0</td>\n",
       "    </tr>\n",
       "    <tr>\n",
       "      <th>4</th>\n",
       "      <td>0</td>\n",
       "      <td>1</td>\n",
       "      <td>1</td>\n",
       "      <td>0</td>\n",
       "      <td>0</td>\n",
       "      <td>1</td>\n",
       "    </tr>\n",
       "    <tr>\n",
       "      <th>5</th>\n",
       "      <td>0</td>\n",
       "      <td>0</td>\n",
       "      <td>1</td>\n",
       "      <td>1</td>\n",
       "      <td>1</td>\n",
       "      <td>1</td>\n",
       "    </tr>\n",
       "    <tr>\n",
       "      <th>6</th>\n",
       "      <td>1</td>\n",
       "      <td>0</td>\n",
       "      <td>0</td>\n",
       "      <td>0</td>\n",
       "      <td>1</td>\n",
       "      <td>0</td>\n",
       "    </tr>\n",
       "    <tr>\n",
       "      <th>7</th>\n",
       "      <td>0</td>\n",
       "      <td>1</td>\n",
       "      <td>0</td>\n",
       "      <td>1</td>\n",
       "      <td>1</td>\n",
       "      <td>1</td>\n",
       "    </tr>\n",
       "    <tr>\n",
       "      <th>8</th>\n",
       "      <td>0</td>\n",
       "      <td>0</td>\n",
       "      <td>1</td>\n",
       "      <td>0</td>\n",
       "      <td>1</td>\n",
       "      <td>1</td>\n",
       "    </tr>\n",
       "    <tr>\n",
       "      <th>9</th>\n",
       "      <td>1</td>\n",
       "      <td>0</td>\n",
       "      <td>0</td>\n",
       "      <td>0</td>\n",
       "      <td>0</td>\n",
       "      <td>0</td>\n",
       "    </tr>\n",
       "    <tr>\n",
       "      <th>10</th>\n",
       "      <td>1</td>\n",
       "      <td>1</td>\n",
       "      <td>1</td>\n",
       "      <td>0</td>\n",
       "      <td>0</td>\n",
       "      <td>1</td>\n",
       "    </tr>\n",
       "    <tr>\n",
       "      <th>11</th>\n",
       "      <td>0</td>\n",
       "      <td>1</td>\n",
       "      <td>1</td>\n",
       "      <td>1</td>\n",
       "      <td>1</td>\n",
       "      <td>0</td>\n",
       "    </tr>\n",
       "    <tr>\n",
       "      <th>12</th>\n",
       "      <td>0</td>\n",
       "      <td>0</td>\n",
       "      <td>0</td>\n",
       "      <td>0</td>\n",
       "      <td>1</td>\n",
       "      <td>0</td>\n",
       "    </tr>\n",
       "    <tr>\n",
       "      <th>13</th>\n",
       "      <td>1</td>\n",
       "      <td>0</td>\n",
       "      <td>0</td>\n",
       "      <td>1</td>\n",
       "      <td>0</td>\n",
       "      <td>1</td>\n",
       "    </tr>\n",
       "  </tbody>\n",
       "</table>\n",
       "</div>"
      ],
      "text/plain": [
       "    EarlyRegistration  Finishedhomework2  Senior  LikesCoffee  \\\n",
       "0                   1                  1       0            0   \n",
       "1                   1                  1       1            0   \n",
       "2                   0                  0       1            0   \n",
       "3                   0                  1       1            0   \n",
       "4                   0                  1       1            0   \n",
       "5                   0                  0       1            1   \n",
       "6                   1                  0       0            0   \n",
       "7                   0                  1       0            1   \n",
       "8                   0                  0       1            0   \n",
       "9                   1                  0       0            0   \n",
       "10                  1                  1       1            0   \n",
       "11                  0                  1       1            1   \n",
       "12                  0                  0       0            0   \n",
       "13                  1                  0       0            1   \n",
       "\n",
       "    LikedTheLasthomework  A  \n",
       "0                      1  1  \n",
       "1                      1  1  \n",
       "2                      0  0  \n",
       "3                      1  0  \n",
       "4                      0  1  \n",
       "5                      1  1  \n",
       "6                      1  0  \n",
       "7                      1  1  \n",
       "8                      1  1  \n",
       "9                      0  0  \n",
       "10                     0  1  \n",
       "11                     1  0  \n",
       "12                     1  0  \n",
       "13                     0  1  "
      ]
     },
     "execution_count": 655,
     "metadata": {},
     "output_type": "execute_result"
    }
   ],
   "source": [
    "student = pd.read_csv('student.csv', encoding='utf-8')\n",
    "student"
   ]
  },
  {
   "cell_type": "code",
   "execution_count": 656,
   "id": "1b556ffe",
   "metadata": {},
   "outputs": [
    {
     "name": "stdout",
     "output_type": "stream",
     "text": [
      "<class 'pandas.core.frame.DataFrame'>\n",
      "RangeIndex: 14 entries, 0 to 13\n",
      "Data columns (total 6 columns):\n",
      " #   Column                Non-Null Count  Dtype\n",
      "---  ------                --------------  -----\n",
      " 0   EarlyRegistration     14 non-null     int64\n",
      " 1   Finishedhomework2     14 non-null     int64\n",
      " 2   Senior                14 non-null     int64\n",
      " 3   LikesCoffee           14 non-null     int64\n",
      " 4   LikedTheLasthomework  14 non-null     int64\n",
      " 5   A                     14 non-null     int64\n",
      "dtypes: int64(6)\n",
      "memory usage: 800.0 bytes\n"
     ]
    }
   ],
   "source": [
    "student.info()"
   ]
  },
  {
   "cell_type": "code",
   "execution_count": 657,
   "id": "e0475b59",
   "metadata": {},
   "outputs": [],
   "source": [
    "x = student.drop('A', axis=1).values\n",
    "y = student['A'].values"
   ]
  },
  {
   "cell_type": "code",
   "execution_count": 658,
   "id": "2618a4b6",
   "metadata": {},
   "outputs": [
    {
     "data": {
      "text/plain": [
       "array([[0, 1, 1, 0, 0],\n",
       "       [0, 1, 1, 1, 1],\n",
       "       [0, 0, 1, 0, 0],\n",
       "       [1, 0, 0, 1, 0],\n",
       "       [1, 0, 0, 0, 0],\n",
       "       [1, 1, 1, 0, 1],\n",
       "       [0, 1, 0, 1, 1],\n",
       "       [1, 1, 1, 0, 0],\n",
       "       [0, 1, 1, 0, 1],\n",
       "       [1, 1, 0, 0, 1],\n",
       "       [0, 0, 1, 1, 1],\n",
       "       [0, 0, 0, 0, 1]], dtype=int64)"
      ]
     },
     "execution_count": 658,
     "metadata": {},
     "output_type": "execute_result"
    }
   ],
   "source": [
    "x_train_s, x_test_s, y_train_s, y_test_s = train_test_split(x, y, test_size = 0.1, random_state = 0)\n",
    "x_train_s"
   ]
  },
  {
   "cell_type": "code",
   "execution_count": 659,
   "id": "c2721733",
   "metadata": {},
   "outputs": [],
   "source": [
    "clf1 = DecisionTreeClassifier(max_depth=6,random_state=60)"
   ]
  },
  {
   "cell_type": "code",
   "execution_count": 660,
   "id": "7a4d088b",
   "metadata": {},
   "outputs": [],
   "source": [
    "clf1 = clf1.fit(x_train_s,y_train_s)\n",
    "y_pred = clf1.predict(x_test_s)"
   ]
  },
  {
   "cell_type": "code",
   "execution_count": 661,
   "id": "ad835b38",
   "metadata": {},
   "outputs": [
    {
     "name": "stdout",
     "output_type": "stream",
     "text": [
      "Accuracy: 50.0\n"
     ]
    }
   ],
   "source": [
    "print(\"Accuracy:\",metrics.accuracy_score(y_test_s, y_pred)*100)"
   ]
  },
  {
   "cell_type": "code",
   "execution_count": 662,
   "id": "e937f4e3",
   "metadata": {},
   "outputs": [],
   "source": [
    "## by the implemented decision tree"
   ]
  },
  {
   "cell_type": "code",
   "execution_count": 663,
   "id": "efa9e858",
   "metadata": {},
   "outputs": [],
   "source": [
    "dt2 = DecisionTree_implemented(max_depth=4)"
   ]
  },
  {
   "cell_type": "code",
   "execution_count": 664,
   "id": "d66cf456",
   "metadata": {},
   "outputs": [],
   "source": [
    "dt2.fit(x_train_s, y_train_s)"
   ]
  },
  {
   "cell_type": "code",
   "execution_count": 665,
   "id": "a1d0f6d7",
   "metadata": {},
   "outputs": [],
   "source": [
    "y_pred_implemented2 = dt2.predict(x_test_s)\n"
   ]
  },
  {
   "cell_type": "code",
   "execution_count": 666,
   "id": "eb62ae58",
   "metadata": {},
   "outputs": [],
   "source": [
    "acc2=accuracy(y_pred_implemented2,y_test_s)"
   ]
  },
  {
   "cell_type": "code",
   "execution_count": 667,
   "id": "e0a6de1b",
   "metadata": {},
   "outputs": [
    {
     "name": "stdout",
     "output_type": "stream",
     "text": [
      "Accuracy of the implemented model 50.0\n"
     ]
    }
   ],
   "source": [
    "print('Accuracy of the implemented model', acc2*100)"
   ]
  }
 ],
 "metadata": {
  "kernelspec": {
   "display_name": "Python 3 (ipykernel)",
   "language": "python",
   "name": "python3"
  },
  "language_info": {
   "codemirror_mode": {
    "name": "ipython",
    "version": 3
   },
   "file_extension": ".py",
   "mimetype": "text/x-python",
   "name": "python",
   "nbconvert_exporter": "python",
   "pygments_lexer": "ipython3",
   "version": "3.9.12"
  }
 },
 "nbformat": 4,
 "nbformat_minor": 5
}
